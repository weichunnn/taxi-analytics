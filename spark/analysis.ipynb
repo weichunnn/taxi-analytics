{
 "cells": [
  {
   "cell_type": "code",
   "execution_count": 6,
   "id": "b8714d35",
   "metadata": {},
   "outputs": [],
   "source": [
    "import pyspark\n",
    "from pyspark.sql import SparkSession, types"
   ]
  },
  {
   "cell_type": "code",
   "execution_count": 2,
   "id": "003edae1",
   "metadata": {},
   "outputs": [
    {
     "name": "stderr",
     "output_type": "stream",
     "text": [
      "Setting default log level to \"WARN\".\n",
      "To adjust logging level use sc.setLogLevel(newLevel). For SparkR, use setLogLevel(newLevel).\n"
     ]
    },
    {
     "name": "stdout",
     "output_type": "stream",
     "text": [
      "22/10/07 21:22:45 WARN NativeCodeLoader: Unable to load native-hadoop library for your platform... using builtin-java classes where applicable\n"
     ]
    }
   ],
   "source": [
    "spark = SparkSession.builder \\\n",
    "    .master(\"local[*]\") \\\n",
    "    .appName('test') \\\n",
    "    .getOrCreate()"
   ]
  },
  {
   "cell_type": "code",
   "execution_count": 3,
   "id": "c82dc4c9",
   "metadata": {
    "scrolled": true
   },
   "outputs": [
    {
     "data": {
      "text/plain": [
       "'3.3.0'"
      ]
     },
     "execution_count": 3,
     "metadata": {},
     "output_type": "execute_result"
    }
   ],
   "source": [
    "spark.version"
   ]
  },
  {
   "cell_type": "code",
   "execution_count": 5,
   "id": "052af5bf",
   "metadata": {},
   "outputs": [
    {
     "name": "stdout",
     "output_type": "stream",
     "text": [
      "download: s3://nyc-tlc/csv_backup/fhvhv_tripdata_2021-02.csv to ./fhvhv_tripdata_2021-02.csv\n"
     ]
    }
   ],
   "source": [
    "!aws --profile=devops s3 cp s3://nyc-tlc/csv_backup/fhvhv_tripdata_2021-02.csv ."
   ]
  },
  {
   "cell_type": "code",
   "execution_count": 7,
   "id": "77384c32",
   "metadata": {},
   "outputs": [],
   "source": [
    "schema = types.StructType([\n",
    "    types.StructField(\"hvfhs_license_num\", types.StringType(), True),\n",
    "    types.StructField(\"dispatching_base_num\", types.StringType(), True),\n",
    "    types.StructField(\"pickup_datetime\", types.TimestampType(), True),\n",
    "    types.StructField(\"dropoff_datetime\", types.TimestampType(), True),\n",
    "    types.StructField(\"PULocationID\", types.IntegerType(), True),\n",
    "    types.StructField(\"DOLocationID\", types.IntegerType(), True),\n",
    "    types.StructField(\"SR_FLAG\", types.StringType(), True),\n",
    "])"
   ]
  },
  {
   "cell_type": "code",
   "execution_count": 36,
   "id": "de91c87c",
   "metadata": {},
   "outputs": [],
   "source": [
    "df = spark.read \\\n",
    "    .option(\"header\", \"true\") \\\n",
    "    .schema(schema) \\\n",
    "    .csv('fhvhv_tripdata_2021-02.csv')\n",
    "\n",
    "df = df.repartition(24)"
   ]
  },
  {
   "cell_type": "code",
   "execution_count": 11,
   "id": "67ad7926",
   "metadata": {},
   "outputs": [
    {
     "name": "stderr",
     "output_type": "stream",
     "text": [
      "[Stage 2:>                                                         (0 + 8) / 24]\r"
     ]
    },
    {
     "name": "stdout",
     "output_type": "stream",
     "text": [
      "22/10/07 21:30:45 WARN MemoryManager: Total allocation exceeds 95.00% (1,020,054,720 bytes) of heap memory\n",
      "Scaling row group sizes to 95.00% for 8 writers\n"
     ]
    },
    {
     "name": "stderr",
     "output_type": "stream",
     "text": [
      "[Stage 2:===================>                                      (8 + 8) / 24]\r"
     ]
    },
    {
     "name": "stdout",
     "output_type": "stream",
     "text": [
      "22/10/07 21:30:54 WARN MemoryManager: Total allocation exceeds 95.00% (1,020,054,720 bytes) of heap memory\n",
      "Scaling row group sizes to 95.00% for 8 writers\n"
     ]
    },
    {
     "name": "stderr",
     "output_type": "stream",
     "text": [
      "\r",
      "[Stage 2:===================>                                     (8 + 13) / 24]\r",
      "\r",
      "[Stage 2:======================================>                  (16 + 8) / 24]\r"
     ]
    },
    {
     "name": "stdout",
     "output_type": "stream",
     "text": [
      "22/10/07 21:30:58 WARN MemoryManager: Total allocation exceeds 95.00% (1,020,054,720 bytes) of heap memory\n",
      "Scaling row group sizes to 95.00% for 8 writers\n"
     ]
    },
    {
     "name": "stderr",
     "output_type": "stream",
     "text": [
      "\r",
      "                                                                                \r"
     ]
    }
   ],
   "source": [
    "df.write.parquet('data/pq/fhvhv/2021/02/')"
   ]
  },
  {
   "cell_type": "code",
   "execution_count": 13,
   "id": "55f8a52d",
   "metadata": {},
   "outputs": [
    {
     "name": "stderr",
     "output_type": "stream",
     "text": [
      "                                                                                \r"
     ]
    },
    {
     "name": "stdout",
     "output_type": "stream",
     "text": [
      "+-----------------+--------------------+-------------------+-------------------+------------+------------+-------+\n",
      "|hvfhs_license_num|dispatching_base_num|    pickup_datetime|   dropoff_datetime|PULocationID|DOLocationID|SR_FLAG|\n",
      "+-----------------+--------------------+-------------------+-------------------+------------+------------+-------+\n",
      "|           HV0003|              B02872|2021-02-04 14:47:35|2021-02-04 15:10:49|          78|         265|   null|\n",
      "|           HV0003|              B02884|2021-02-03 17:30:18|2021-02-03 17:45:26|         124|          63|   null|\n",
      "|           HV0003|              B02888|2021-02-02 21:58:52|2021-02-02 22:06:22|           7|           7|   null|\n",
      "|           HV0003|              B02884|2021-02-04 05:56:44|2021-02-04 06:02:52|          76|          35|   null|\n",
      "|           HV0003|              B02682|2021-02-04 18:20:58|2021-02-04 18:40:15|          83|         198|   null|\n",
      "|           HV0003|              B02764|2021-02-04 18:16:00|2021-02-04 18:28:37|         213|         182|   null|\n",
      "|           HV0005|              B02510|2021-02-03 11:47:33|2021-02-03 12:07:59|         244|          41|   null|\n",
      "|           HV0003|              B02764|2021-02-04 14:44:10|2021-02-04 15:00:37|          51|         254|   null|\n",
      "|           HV0003|              B02869|2021-02-03 19:28:37|2021-02-03 19:38:44|          66|          65|   null|\n",
      "|           HV0003|              B02872|2021-02-05 01:35:28|2021-02-05 01:40:37|          25|          33|   null|\n",
      "|           HV0003|              B02888|2021-02-04 14:39:31|2021-02-04 14:46:26|         225|          17|   null|\n",
      "|           HV0003|              B02872|2021-02-02 17:50:22|2021-02-02 18:02:05|          77|          77|   null|\n",
      "|           HV0005|              B02510|2021-02-05 09:54:35|2021-02-05 10:11:58|         243|          50|   null|\n",
      "|           HV0003|              B02878|2021-02-03 00:17:27|2021-02-03 00:24:23|           7|         260|   null|\n",
      "|           HV0003|              B02875|2021-02-05 07:09:10|2021-02-05 07:33:55|          76|         210|   null|\n",
      "|           HV0003|              B02617|2021-02-03 16:47:52|2021-02-03 16:59:38|          18|         241|   null|\n",
      "|           HV0003|              B02764|2021-02-02 14:00:30|2021-02-02 14:17:55|         143|         140|   null|\n",
      "|           HV0003|              B02876|2021-02-03 21:17:37|2021-02-03 21:36:01|          85|         155|   null|\n",
      "|           HV0003|              B02887|2021-02-05 09:20:17|2021-02-05 09:30:57|          68|         125|   null|\n",
      "|           HV0003|              B02877|2021-02-04 19:26:39|2021-02-04 19:35:23|         159|         159|   null|\n",
      "+-----------------+--------------------+-------------------+-------------------+------------+------------+-------+\n",
      "only showing top 20 rows\n",
      "\n"
     ]
    }
   ],
   "source": [
    "df.show()"
   ]
  },
  {
   "cell_type": "code",
   "execution_count": 15,
   "id": "b9b24e03",
   "metadata": {},
   "outputs": [],
   "source": [
    "from pyspark.sql import functions as F"
   ]
  },
  {
   "cell_type": "code",
   "execution_count": 37,
   "id": "d31a1d0b",
   "metadata": {},
   "outputs": [
    {
     "name": "stderr",
     "output_type": "stream",
     "text": [
      "[Stage 44:=====================================================>  (23 + 1) / 24]\r"
     ]
    },
    {
     "name": "stdout",
     "output_type": "stream",
     "text": [
      "+-----------+------+\n",
      "|pickup_date| count|\n",
      "+-----------+------+\n",
      "| 2021-02-15|367170|\n",
      "+-----------+------+\n",
      "\n"
     ]
    },
    {
     "name": "stderr",
     "output_type": "stream",
     "text": [
      "\r",
      "                                                                                \r"
     ]
    }
   ],
   "source": [
    "df.withColumn('pickup_date', F.to_date(df.pickup_datetime)) \\\n",
    "    .filter(\"pickup_date = '2021-02-15'\") \\\n",
    "    .groupBy('pickup_date') \\\n",
    "    .count() \\\n",
    "    .show()"
   ]
  },
  {
   "cell_type": "code",
   "execution_count": 38,
   "id": "565d16c6",
   "metadata": {},
   "outputs": [],
   "source": [
    "df.registerTempTable('fhvhv_2021_02')"
   ]
  },
  {
   "cell_type": "code",
   "execution_count": 40,
   "id": "c81156e2",
   "metadata": {},
   "outputs": [
    {
     "name": "stderr",
     "output_type": "stream",
     "text": [
      "[Stage 48:=============================>                            (4 + 4) / 8]\r"
     ]
    },
    {
     "name": "stdout",
     "output_type": "stream",
     "text": [
      "+--------+\n",
      "|count(1)|\n",
      "+--------+\n",
      "|  367170|\n",
      "+--------+\n",
      "\n"
     ]
    },
    {
     "name": "stderr",
     "output_type": "stream",
     "text": [
      "\r",
      "                                                                                \r"
     ]
    }
   ],
   "source": [
    "spark.sql(\"\"\"\n",
    "    select count(1)\n",
    "    from fhvhv_2021_02\n",
    "    where to_date(pickup_datetime) = '2021-02-15'\n",
    "\"\"\").show()"
   ]
  },
  {
   "cell_type": "code",
   "execution_count": 50,
   "id": "d99d39d1",
   "metadata": {},
   "outputs": [
    {
     "name": "stderr",
     "output_type": "stream",
     "text": [
      "[Stage 71:============================================>           (19 + 5) / 24]\r"
     ]
    },
    {
     "name": "stdout",
     "output_type": "stream",
     "text": [
      "+-----------+-------------+\n",
      "|pickup_date|max(duration)|\n",
      "+-----------+-------------+\n",
      "| 2021-02-11|        75540|\n",
      "| 2021-02-17|        57221|\n",
      "| 2021-02-20|        44039|\n",
      "| 2021-02-03|        40653|\n",
      "| 2021-02-19|        37577|\n",
      "| 2021-02-25|        35010|\n",
      "| 2021-02-18|        34612|\n",
      "| 2021-02-10|        34169|\n",
      "| 2021-02-21|        32223|\n",
      "| 2021-02-09|        32087|\n",
      "| 2021-02-06|        31447|\n",
      "| 2021-02-02|        30913|\n",
      "| 2021-02-05|        30511|\n",
      "| 2021-02-12|        30148|\n",
      "| 2021-02-08|        30106|\n",
      "| 2021-02-14|        29777|\n",
      "| 2021-02-22|        28278|\n",
      "| 2021-02-27|        27170|\n",
      "| 2021-02-15|        25874|\n",
      "| 2021-02-04|        25592|\n",
      "+-----------+-------------+\n",
      "only showing top 20 rows\n",
      "\n"
     ]
    },
    {
     "name": "stderr",
     "output_type": "stream",
     "text": [
      "\r",
      "                                                                                \r"
     ]
    }
   ],
   "source": [
    "df.withColumn('duration', df.dropoff_datetime.cast('long') - df.pickup_datetime.cast('long')) \\\n",
    "    .withColumn('pickup_date', F.to_date(df.pickup_datetime)) \\\n",
    "    .groupby('pickup_date') \\\n",
    "    .max('duration') \\\n",
    "    .orderBy('max(duration)', ascending=False) \\\n",
    "    .show()"
   ]
  },
  {
   "cell_type": "code",
   "execution_count": null,
   "id": "df53b039",
   "metadata": {},
   "outputs": [],
   "source": []
  },
  {
   "cell_type": "code",
   "execution_count": null,
   "id": "0c1242e3",
   "metadata": {},
   "outputs": [],
   "source": []
  }
 ],
 "metadata": {
  "kernelspec": {
   "display_name": "Python 3 (ipykernel)",
   "language": "python",
   "name": "python3"
  },
  "language_info": {
   "codemirror_mode": {
    "name": "ipython",
    "version": 3
   },
   "file_extension": ".py",
   "mimetype": "text/x-python",
   "name": "python",
   "nbconvert_exporter": "python",
   "pygments_lexer": "ipython3",
   "version": "3.9.10"
  }
 },
 "nbformat": 4,
 "nbformat_minor": 5
}
